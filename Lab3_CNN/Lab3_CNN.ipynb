{
  "nbformat": 4,
  "nbformat_minor": 0,
  "metadata": {
    "kernelspec": {
      "display_name": "Python 3",
      "language": "python",
      "name": "python3"
    },
    "language_info": {
      "codemirror_mode": {
        "name": "ipython",
        "version": 3
      },
      "file_extension": ".py",
      "mimetype": "text/x-python",
      "name": "python",
      "nbconvert_exporter": "python",
      "pygments_lexer": "ipython3",
      "version": "3.6.9-final"
    },
    "colab": {
      "name": "Lab3_CNN.ipynb",
      "provenance": [],
      "collapsed_sections": []
    },
    "accelerator": "GPU"
  },
  "cells": [
    {
      "cell_type": "markdown",
      "metadata": {
        "id": "GYgUGNnxEAnv",
        "colab_type": "text"
      },
      "source": [
        "# 用CNN实现图片的分类"
      ]
    },
    {
      "cell_type": "code",
      "metadata": {
        "id": "Yx_wqqbCEAnw",
        "colab_type": "code",
        "colab": {}
      },
      "source": [
        "import os\n",
        "import numpy as np\n",
        "import cv2\n",
        "import torch\n",
        "import torch.nn as nn\n",
        "import torchvision.transforms as transforms\n",
        "import pandas as pd\n",
        "from torch.utils.data import DataLoader, Dataset\n",
        "import time"
      ],
      "execution_count": 0,
      "outputs": []
    },
    {
      "cell_type": "markdown",
      "metadata": {
        "id": "I2PVs0qWEAn1",
        "colab_type": "text"
      },
      "source": [
        "## 读取图像"
      ]
    },
    {
      "cell_type": "code",
      "metadata": {
        "id": "MlysIHHEEJCq",
        "colab_type": "code",
        "outputId": "3e93e225-1e88-4c26-9e44-0426f98def63",
        "colab": {
          "base_uri": "https://localhost:8080/",
          "height": 129
        }
      },
      "source": [
        "from google.colab import drive\n",
        "drive.mount('/content/drive')"
      ],
      "execution_count": 4,
      "outputs": [
        {
          "output_type": "stream",
          "text": [
            "Go to this URL in a browser: https://accounts.google.com/o/oauth2/auth?client_id=947318989803-6bn6qk8qdgf4n4g3pfee6491hc0brc4i.apps.googleusercontent.com&redirect_uri=urn%3aietf%3awg%3aoauth%3a2.0%3aoob&response_type=code&scope=email%20https%3a%2f%2fwww.googleapis.com%2fauth%2fdocs.test%20https%3a%2f%2fwww.googleapis.com%2fauth%2fdrive%20https%3a%2f%2fwww.googleapis.com%2fauth%2fdrive.photos.readonly%20https%3a%2f%2fwww.googleapis.com%2fauth%2fpeopleapi.readonly\n",
            "\n",
            "Enter your authorization code:\n",
            "··········\n",
            "Mounted at /content/drive\n"
          ],
          "name": "stdout"
        }
      ]
    },
    {
      "cell_type": "code",
      "metadata": {
        "id": "CeA9zZz-EAn2",
        "colab_type": "code",
        "colab": {}
      },
      "source": [
        "def readfile(path, label):\n",
        "    '''\n",
        "    读取图像\n",
        "    parameter:\n",
        "        @path: 文件的路径\n",
        "        @label: 布尔值，表示是否需要返回标签\n",
        "    return:\n",
        "        读取图像后的array\n",
        "    '''\n",
        "    img_dir = sorted((os.listdir(path)))\n",
        "    x = np.zeros((len(img_dir), 128, 128, 3), dtype=np.uint8) # 将每张图像转换成128 × 128 × 3的矩阵\n",
        "    y = np.zeros((len(img_dir)), dtype=np.uint8) # 图像输出的标签\n",
        "    for i, file in enumerate(img_dir):\n",
        "        img = cv2.imread(os.path.join(path, file)) # cv2.imread()返回的是[height, width, channel]\n",
        "        x[i, :, :] = cv2.resize(img, (128, 128)) # 将图像的高度和宽度的像素值指定为128\n",
        "        if label:\n",
        "          y[i] = int(file.split(\"_\")[0])\n",
        "\n",
        "    if label:\n",
        "        return x, y\n",
        "    else:\n",
        "        return x\n",
        "        "
      ],
      "execution_count": 0,
      "outputs": []
    },
    {
      "cell_type": "code",
      "metadata": {
        "id": "UUqiuT-rEb7H",
        "colab_type": "code",
        "colab": {}
      },
      "source": [
        "# !unzip /content/drive/My\\ Drive/data/hw3/food-11.zip -d /content/drive/My\\ Drive/data/hw3/food-11"
      ],
      "execution_count": 0,
      "outputs": []
    },
    {
      "cell_type": "code",
      "metadata": {
        "id": "FTVxfim9EAn6",
        "colab_type": "code",
        "colab": {}
      },
      "source": [
        "# 读取图像\n",
        "data_dir = '/content/drive/My Drive/data/hw3/food-11/food-11'\n",
        "train_x, train_y = readfile(os.path.join(data_dir, \"training\"), True) # 训练数据\n",
        "print(\"Size of training data = {}\".format(len(train_x)))\n",
        "val_x, val_y = readfile(os.path.join(data_dir, \"validation\"), True) # 验证集\n",
        "print(\"Size of validation data = {}\".format(len(val_x)))\n",
        "test_x = readfile(os.path.join(data_dir, \"testing\"), False) # 测试集\n",
        "print(\"Size of testing data = {}\".format(len(test_x)))"
      ],
      "execution_count": 0,
      "outputs": []
    },
    {
      "cell_type": "markdown",
      "metadata": {
        "id": "RfhAYjemEAn_",
        "colab_type": "text"
      },
      "source": [
        "## 处理数据\n",
        "主要利用pytorch的torch.utils.data来处理数据。\n",
        "这里需要用到data augment技术来增强源数据"
      ]
    },
    {
      "cell_type": "code",
      "metadata": {
        "id": "ETwH4QPJEAoA",
        "colab_type": "code",
        "colab": {}
      },
      "source": [
        "# 对trianing data做数据增强\n",
        "train_transform = transforms.Compose([\n",
        "    transforms.ToPILImage(), # 将tensor或者array的数据转换成PIL Image类型数据\n",
        "    transforms.RandomHorizontalFlip(), # 随机对PIL图片进行水平翻转\n",
        "    transforms.RandomRotation(15), # 将图片旋转15 degree\n",
        "    transforms.ToTensor(), # 将PIL Image或者narray转换成tensor\n",
        "])\n",
        "\n",
        "# 测试数据不需要做数据增强，只需转换格式\n",
        "test_transform = transforms.Compose([\n",
        "    transforms.ToPILImage(), \n",
        "    transforms.ToTensor(),\n",
        "])"
      ],
      "execution_count": 0,
      "outputs": []
    },
    {
      "cell_type": "code",
      "metadata": {
        "id": "ZlqQicnvEAoE",
        "colab_type": "code",
        "colab": {}
      },
      "source": [
        "class ImgDataset(Dataset):\n",
        "    def __init__(self, x, y=None, transform=None):\n",
        "        self.x = x\n",
        "        # label is required to be a LongTensor\n",
        "        self.y = y\n",
        "        if y is not None:\n",
        "            self.y = torch.LongTensor(y) # pytorch tensor默认的类型是double，涉及到图像故保存更高精度\n",
        "        self.transform = transform\n",
        "    def __len__(self):\n",
        "        return len(self.x)\n",
        "    def __getitem__(self, index):\n",
        "        X = self.x[index]\n",
        "        if self.transform is not None:\n",
        "            X = self.transform(X)\n",
        "        if self.y is not None:\n",
        "            Y = self.y[index]\n",
        "            return X, Y\n",
        "        else:\n",
        "            return X\n"
      ],
      "execution_count": 0,
      "outputs": []
    },
    {
      "cell_type": "code",
      "metadata": {
        "id": "jH-1Wy45EAoI",
        "colab_type": "code",
        "colab": {}
      },
      "source": [
        "# 分割数据集\n",
        "batch_size = 128\n",
        "train_set = ImgDataset(train_x, train_y, train_transform)\n",
        "val_set = ImgDataset(val_x, val_y, test_transform)\n",
        "train_loader = DataLoader(train_set, batch_size=batch_size, shuffle=True)\n",
        "val_loader = DataLoader(val_set, batch_size=batch_size, shuffle=False)"
      ],
      "execution_count": 0,
      "outputs": []
    },
    {
      "cell_type": "markdown",
      "metadata": {
        "id": "YaEHH92IEAoM",
        "colab_type": "text"
      },
      "source": [
        "## 定义Model (CNN)"
      ]
    },
    {
      "cell_type": "code",
      "metadata": {
        "id": "KM0vYfCoEAoN",
        "colab_type": "code",
        "colab": {}
      },
      "source": [
        "class Classifier(nn.Module):\n",
        "    def __init__(self):\n",
        "        super(Classifier, self).__init__()\n",
        "        \n",
        "        \n",
        "        self.cnn = nn.Sequential(\n",
        "            # 第一层网络\n",
        "            # torch.nn.Conv2d(in_channels, out_channels, kernel_size, stride, padding)\n",
        "            # input的图像维度[3, 128, 128]\n",
        "            nn.Conv2d(3, 64, 3, 1, 1),  # [64, 128, 128]\n",
        "            nn.BatchNorm2d(64), # 在cnn的卷积层之后基本都要连接一个BatchNorm函数用来对数据进行数据的归一化处理，使得数据在进行ReLu之前不会因为数据过大而导致网络性能的不稳定\n",
        "            nn.ReLU(),\n",
        "            # torch.nn.MaxPool2d(kernel_size, stride, padding)\n",
        "            nn.MaxPool2d(2, 2, 0),      # [64, 64, 64]\n",
        "\n",
        "            # 第二层网络\n",
        "            nn.Conv2d(64, 128, 3, 1, 1), # [128, 64, 64]\n",
        "            nn.BatchNorm2d(128),\n",
        "            nn.ReLU(),\n",
        "            nn.MaxPool2d(2, 2, 0),      # [128, 32, 32]\n",
        "\n",
        "            # 第三层网络\n",
        "            nn.Conv2d(128, 256, 3, 1, 1), # [256, 32, 32]\n",
        "            nn.BatchNorm2d(256),\n",
        "            nn.ReLU(),\n",
        "            nn.MaxPool2d(2, 2, 0),      # [256, 16, 16]\n",
        "\n",
        "            # 第四层网络\n",
        "            nn.Conv2d(256, 512, 3, 1, 1), # [512, 16, 16]\n",
        "            nn.BatchNorm2d(512),\n",
        "            nn.ReLU(),\n",
        "            nn.MaxPool2d(2, 2, 0),       # [512, 8, 8]\n",
        "            \n",
        "            # 第五层网络\n",
        "            nn.Conv2d(512, 512, 3, 1, 1), # [512, 8, 8]\n",
        "            nn.BatchNorm2d(512),\n",
        "            nn.ReLU(),\n",
        "            nn.MaxPool2d(2, 2, 0),       # [512, 4, 4]\n",
        "        )\n",
        "        # 全连接层\n",
        "        self.fc = nn.Sequential(\n",
        "            nn.Linear(512*4*4, 1024),\n",
        "            nn.ReLU(),\n",
        "            nn.Linear(1024, 512),\n",
        "            nn.ReLU(),\n",
        "            nn.Linear(512, 11)\n",
        "        )\n",
        "\n",
        "    def forward(self, x):\n",
        "        out = self.cnn(x)\n",
        "        out = out.view(out.size()[0], -1)\n",
        "        return self.fc(out)"
      ],
      "execution_count": 0,
      "outputs": []
    },
    {
      "cell_type": "markdown",
      "metadata": {
        "id": "nqKmACH-EAoR",
        "colab_type": "text"
      },
      "source": [
        "### CNN Model Training"
      ]
    },
    {
      "cell_type": "code",
      "metadata": {
        "id": "J9Cc7QAPEAoS",
        "colab_type": "code",
        "outputId": "39b97ca2-c6d1-4207-b14f-1bb3174f618d",
        "colab": {
          "base_uri": "https://localhost:8080/",
          "height": 571
        }
      },
      "source": [
        "model = Classifier().cuda()\n",
        "\n",
        "loss = nn.CrossEntropyLoss() # loss采用crossEntropy是因为该问题是个分类问题\n",
        "optimizer = torch.optim.Adam(model.parameters(), lr=0.001) # optimizer 使用 Adam\n",
        "num_epoch = 30\n",
        "\n",
        "for epoch in range(num_epoch):\n",
        "    epoch_start_time = time.time()\n",
        "    train_acc = 0.0\n",
        "    train_loss = 0.0\n",
        "    val_acc = 0.0\n",
        "    val_loss = 0.0\n",
        "\n",
        "    # cnn model\n",
        "    model.train() \n",
        "\n",
        "    for i, data in enumerate(train_loader):\n",
        "        optimizer.zero_grad() \n",
        "        # data[0]是x，data[1]是计算出的y\n",
        "        train_pred = model(data[0].cuda()) # 利用model预测概率分布，实际上调用model的forward\n",
        "        batch_loss = loss(train_pred, data[1].cuda()) # 计算loss\n",
        "        batch_loss.backward() # 利用back propagation计算每个参数的gradient\n",
        "        optimizer.step() # 以optimizer 用gradient更新参数值\n",
        "\n",
        "        train_acc += np.sum(np.argmax(train_pred.cpu().data.numpy(), axis=1) == data[1].numpy())\n",
        "        train_loss += batch_loss.item()\n",
        "    \n",
        "    model.eval()\n",
        "    # torch.no_grad()表示不需要进行梯度计算\n",
        "    with torch.no_grad():\n",
        "        for i, data in enumerate(val_loader):\n",
        "            val_pred = model(data[0].cuda())\n",
        "            batch_loss = loss(val_pred, data[1].cuda())\n",
        "\n",
        "            val_acc += np.sum(np.argmax(val_pred.cpu().data.numpy(), axis=1) == data[1].numpy())\n",
        "            val_loss += batch_loss.item()\n",
        "\n",
        "        \n",
        "        print('[%03d/%03d] %2.2f sec(s) Train Acc: %3.6f Loss: %3.6f | Val Acc: %3.6f loss: %3.6f' % \\\n",
        "            (epoch + 1, num_epoch, time.time()-epoch_start_time, \\\n",
        "             train_acc/train_set.__len__(), train_loss/train_set.__len__(), val_acc/val_set.__len__(), val_loss/val_set.__len__()))"
      ],
      "execution_count": 26,
      "outputs": [
        {
          "output_type": "stream",
          "text": [
            "[001/030] 30.55 sec(s) Train Acc: 0.220150 Loss: 0.017987 | Val Acc: 0.239067 loss: 0.017408\n",
            "[002/030] 30.46 sec(s) Train Acc: 0.324448 Loss: 0.015104 | Val Acc: 0.350437 loss: 0.014466\n",
            "[003/030] 30.53 sec(s) Train Acc: 0.387594 Loss: 0.013791 | Val Acc: 0.254519 loss: 0.019122\n",
            "[004/030] 30.49 sec(s) Train Acc: 0.446584 Loss: 0.012488 | Val Acc: 0.442566 loss: 0.012653\n",
            "[005/030] 30.51 sec(s) Train Acc: 0.479222 Loss: 0.011752 | Val Acc: 0.384840 loss: 0.014771\n",
            "[006/030] 30.47 sec(s) Train Acc: 0.505777 Loss: 0.011251 | Val Acc: 0.297668 loss: 0.017740\n",
            "[007/030] 30.48 sec(s) Train Acc: 0.527569 Loss: 0.010749 | Val Acc: 0.460350 loss: 0.012877\n",
            "[008/030] 30.44 sec(s) Train Acc: 0.558078 Loss: 0.009973 | Val Acc: 0.505831 loss: 0.012097\n",
            "[009/030] 30.42 sec(s) Train Acc: 0.575005 Loss: 0.009548 | Val Acc: 0.481633 loss: 0.012027\n",
            "[010/030] 30.44 sec(s) Train Acc: 0.600750 Loss: 0.009086 | Val Acc: 0.545481 loss: 0.010809\n",
            "[011/030] 30.41 sec(s) Train Acc: 0.628117 Loss: 0.008357 | Val Acc: 0.529155 loss: 0.011704\n",
            "[012/030] 30.39 sec(s) Train Acc: 0.638557 Loss: 0.008166 | Val Acc: 0.563265 loss: 0.010610\n",
            "[013/030] 30.45 sec(s) Train Acc: 0.658017 Loss: 0.007770 | Val Acc: 0.413120 loss: 0.020456\n",
            "[014/030] 30.44 sec(s) Train Acc: 0.653862 Loss: 0.007817 | Val Acc: 0.512828 loss: 0.012161\n",
            "[015/030] 30.48 sec(s) Train Acc: 0.686702 Loss: 0.007053 | Val Acc: 0.485131 loss: 0.014231\n",
            "[016/030] 30.43 sec(s) Train Acc: 0.703831 Loss: 0.006686 | Val Acc: 0.567930 loss: 0.011192\n",
            "[017/030] 30.43 sec(s) Train Acc: 0.722785 Loss: 0.006339 | Val Acc: 0.521574 loss: 0.012597\n",
            "[018/030] 30.42 sec(s) Train Acc: 0.713967 Loss: 0.006394 | Val Acc: 0.468513 loss: 0.017814\n",
            "[019/030] 30.40 sec(s) Train Acc: 0.744172 Loss: 0.005789 | Val Acc: 0.625656 loss: 0.009265\n",
            "[020/030] 30.42 sec(s) Train Acc: 0.751166 Loss: 0.005559 | Val Acc: 0.602915 loss: 0.009935\n",
            "[021/030] 30.50 sec(s) Train Acc: 0.763633 Loss: 0.005223 | Val Acc: 0.560058 loss: 0.012543\n",
            "[022/030] 30.45 sec(s) Train Acc: 0.782080 Loss: 0.004936 | Val Acc: 0.646939 loss: 0.009104\n",
            "[023/030] 30.43 sec(s) Train Acc: 0.790290 Loss: 0.004759 | Val Acc: 0.581341 loss: 0.011438\n",
            "[024/030] 30.48 sec(s) Train Acc: 0.784817 Loss: 0.004951 | Val Acc: 0.613703 loss: 0.010462\n",
            "[025/030] 30.40 sec(s) Train Acc: 0.809852 Loss: 0.004166 | Val Acc: 0.658017 loss: 0.009169\n",
            "[026/030] 30.45 sec(s) Train Acc: 0.826373 Loss: 0.003995 | Val Acc: 0.627405 loss: 0.010517\n",
            "[027/030] 30.37 sec(s) Train Acc: 0.826272 Loss: 0.003928 | Val Acc: 0.628571 loss: 0.010140\n",
            "[028/030] 30.40 sec(s) Train Acc: 0.839347 Loss: 0.003666 | Val Acc: 0.659184 loss: 0.009598\n",
            "[029/030] 30.41 sec(s) Train Acc: 0.845834 Loss: 0.003426 | Val Acc: 0.609329 loss: 0.013359\n",
            "[030/030] 30.37 sec(s) Train Acc: 0.868538 Loss: 0.002889 | Val Acc: 0.670262 loss: 0.009836\n"
          ],
          "name": "stdout"
        }
      ]
    },
    {
      "cell_type": "markdown",
      "metadata": {
        "id": "2FeCozKnqb4j",
        "colab_type": "text"
      },
      "source": [
        "## 定义Model (DNN)"
      ]
    },
    {
      "cell_type": "code",
      "metadata": {
        "id": "GnGpNWJbqa-u",
        "colab_type": "code",
        "colab": {
          "base_uri": "https://localhost:8080/",
          "height": 250
        },
        "outputId": "b2433682-4d0e-4276-b86a-a5e6575b396b"
      },
      "source": [
        "class DNN(nn.Module):\n",
        "  def __init__(self):\n",
        "    super(DNN, self).__init__()\n",
        "\n",
        "    self.dnn = nn.Sequential(\n",
        "        nn.Linear(3*128*128, 1024),\n",
        "        nn.ReLU(),\n",
        "\n",
        "        nn.Linear(1024, 1024),\n",
        "        nn.ReLU(),\n",
        "\n",
        "        nn.Linear(1024, 512),\n",
        "        nn.ReLU(),\n",
        "\n",
        "        nn.Linear(512, 11),\n",
        "    )\n",
        "\n",
        "  def forward(self, x):\n",
        "    out = self.dnn(x)\n",
        "    out = out.view(out.size()[0], -1)\n",
        "    return out"
      ],
      "execution_count": 2,
      "outputs": [
        {
          "output_type": "error",
          "ename": "NameError",
          "evalue": "ignored",
          "traceback": [
            "\u001b[0;31m---------------------------------------------------------------------------\u001b[0m",
            "\u001b[0;31mNameError\u001b[0m                                 Traceback (most recent call last)",
            "\u001b[0;32m<ipython-input-2-34bb4a02c66e>\u001b[0m in \u001b[0;36m<module>\u001b[0;34m()\u001b[0m\n\u001b[0;32m----> 1\u001b[0;31m \u001b[0;32mclass\u001b[0m \u001b[0mDNN\u001b[0m\u001b[0;34m(\u001b[0m\u001b[0mnn\u001b[0m\u001b[0;34m.\u001b[0m\u001b[0mModule\u001b[0m\u001b[0;34m)\u001b[0m\u001b[0;34m:\u001b[0m\u001b[0;34m\u001b[0m\u001b[0;34m\u001b[0m\u001b[0m\n\u001b[0m\u001b[1;32m      2\u001b[0m   \u001b[0;32mdef\u001b[0m \u001b[0m__init__\u001b[0m\u001b[0;34m(\u001b[0m\u001b[0mself\u001b[0m\u001b[0;34m)\u001b[0m\u001b[0;34m:\u001b[0m\u001b[0;34m\u001b[0m\u001b[0;34m\u001b[0m\u001b[0m\n\u001b[1;32m      3\u001b[0m     \u001b[0msuper\u001b[0m\u001b[0;34m(\u001b[0m\u001b[0mDNN\u001b[0m\u001b[0;34m,\u001b[0m \u001b[0mself\u001b[0m\u001b[0;34m)\u001b[0m\u001b[0;34m.\u001b[0m\u001b[0m__init__\u001b[0m\u001b[0;34m(\u001b[0m\u001b[0;34m)\u001b[0m\u001b[0;34m\u001b[0m\u001b[0;34m\u001b[0m\u001b[0m\n\u001b[1;32m      4\u001b[0m \u001b[0;34m\u001b[0m\u001b[0m\n\u001b[1;32m      5\u001b[0m     self.dnn = nn.Sequential(\n",
            "\u001b[0;31mNameError\u001b[0m: name 'nn' is not defined"
          ]
        }
      ]
    },
    {
      "cell_type": "markdown",
      "metadata": {
        "id": "Rr_gMja_wGcE",
        "colab_type": "text"
      },
      "source": [
        "## DNN Model Training"
      ]
    },
    {
      "cell_type": "code",
      "metadata": {
        "id": "-fr1d1urv6QW",
        "colab_type": "code",
        "colab": {
          "base_uri": "https://localhost:8080/",
          "height": 403
        },
        "outputId": "c0fc47f3-2209-480c-e9a8-756491138aa6"
      },
      "source": [
        "model_dnn = DNN().cuda()\n",
        "\n",
        "loss = nn.CrossEntropyLoss() # loss采用crossEntropy是因为该问题是个分类问题\n",
        "optimizer = torch.optim.Adam(model.parameters(), lr=0.001) # optimizer 使用 Adam\n",
        "num_epoch = 30\n",
        "\n",
        "for epoch in range(num_epoch):\n",
        "    epoch_start_time = time.time()\n",
        "    train_acc = 0.0\n",
        "    train_loss = 0.0\n",
        "    val_acc = 0.0\n",
        "    val_loss = 0.0\n",
        "\n",
        "    # dnn model\n",
        "    model_dnn.train() \n",
        "\n",
        "    for i, data in enumerate(train_loader):\n",
        "        optimizer.zero_grad() \n",
        "        # data[0]是x，data[1]是计算出的y\n",
        "        train_pred = model_dnn(data[0].cuda()) # 利用model预测概率分布，实际上调用model的forward\n",
        "        batch_loss = loss(train_pred, data[1].cuda()) # 计算loss\n",
        "        batch_loss.backward() # 利用back propagation计算每个参数的gradient\n",
        "        optimizer.step() # 以optimizer 用gradient更新参数值\n",
        "\n",
        "        train_acc += np.sum(np.argmax(train_pred.cpu().data.numpy(), axis=1) == data[1].numpy())\n",
        "        train_loss += batch_loss.item()\n",
        "    \n",
        "    model_dnn.eval()\n",
        "    # torch.no_grad()表示不需要进行梯度计算\n",
        "    with torch.no_grad():\n",
        "        for i, data in enumerate(val_loader):\n",
        "            val_pred = model_dnn(data[0].cuda())\n",
        "            batch_loss = loss(val_pred, data[1].cuda())\n",
        "\n",
        "            val_acc += np.sum(np.argmax(val_pred.cpu().data.numpy(), axis=1) == data[1].numpy())\n",
        "            val_loss += batch_loss.item()\n",
        "\n",
        "        \n",
        "        print('[%03d/%03d] %2.2f sec(s) Train Acc: %3.6f Loss: %3.6f | Val Acc: %3.6f loss: %3.6f' % \\\n",
        "            (epoch + 1, num_epoch, time.time()-epoch_start_time, \\\n",
        "             train_acc/train_set.__len__(), train_loss/train_set.__len__(), val_acc/val_set.__len__(), val_loss/val_set.__len__()))"
      ],
      "execution_count": 36,
      "outputs": [
        {
          "output_type": "error",
          "ename": "RuntimeError",
          "evalue": "ignored",
          "traceback": [
            "\u001b[0;31m---------------------------------------------------------------------------\u001b[0m",
            "\u001b[0;31mRuntimeError\u001b[0m                              Traceback (most recent call last)",
            "\u001b[0;32m<ipython-input-36-a8ea7ea8d3a0>\u001b[0m in \u001b[0;36m<module>\u001b[0;34m()\u001b[0m\n\u001b[1;32m     18\u001b[0m         \u001b[0moptimizer\u001b[0m\u001b[0;34m.\u001b[0m\u001b[0mzero_grad\u001b[0m\u001b[0;34m(\u001b[0m\u001b[0;34m)\u001b[0m\u001b[0;34m\u001b[0m\u001b[0;34m\u001b[0m\u001b[0m\n\u001b[1;32m     19\u001b[0m         \u001b[0;31m# data[0]是x，data[1]是计算出的y\u001b[0m\u001b[0;34m\u001b[0m\u001b[0;34m\u001b[0m\u001b[0;34m\u001b[0m\u001b[0m\n\u001b[0;32m---> 20\u001b[0;31m         \u001b[0mtrain_pred\u001b[0m \u001b[0;34m=\u001b[0m \u001b[0mmodel_dnn\u001b[0m\u001b[0;34m(\u001b[0m\u001b[0mdata\u001b[0m\u001b[0;34m[\u001b[0m\u001b[0;36m0\u001b[0m\u001b[0;34m]\u001b[0m\u001b[0;34m.\u001b[0m\u001b[0mcuda\u001b[0m\u001b[0;34m(\u001b[0m\u001b[0;34m)\u001b[0m\u001b[0;34m)\u001b[0m \u001b[0;31m# 利用model预测概率分布，实际上调用model的forward\u001b[0m\u001b[0;34m\u001b[0m\u001b[0;34m\u001b[0m\u001b[0m\n\u001b[0m\u001b[1;32m     21\u001b[0m         \u001b[0mbatch_loss\u001b[0m \u001b[0;34m=\u001b[0m \u001b[0mloss\u001b[0m\u001b[0;34m(\u001b[0m\u001b[0mtrain_pred\u001b[0m\u001b[0;34m,\u001b[0m \u001b[0mdata\u001b[0m\u001b[0;34m[\u001b[0m\u001b[0;36m1\u001b[0m\u001b[0;34m]\u001b[0m\u001b[0;34m.\u001b[0m\u001b[0mcuda\u001b[0m\u001b[0;34m(\u001b[0m\u001b[0;34m)\u001b[0m\u001b[0;34m)\u001b[0m \u001b[0;31m# 计算loss\u001b[0m\u001b[0;34m\u001b[0m\u001b[0;34m\u001b[0m\u001b[0m\n\u001b[1;32m     22\u001b[0m         \u001b[0mbatch_loss\u001b[0m\u001b[0;34m.\u001b[0m\u001b[0mbackward\u001b[0m\u001b[0;34m(\u001b[0m\u001b[0;34m)\u001b[0m \u001b[0;31m# 利用back propagation计算每个参数的gradient\u001b[0m\u001b[0;34m\u001b[0m\u001b[0;34m\u001b[0m\u001b[0m\n",
            "\u001b[0;32m/usr/local/lib/python3.6/dist-packages/torch/nn/modules/module.py\u001b[0m in \u001b[0;36m__call__\u001b[0;34m(self, *input, **kwargs)\u001b[0m\n\u001b[1;32m    548\u001b[0m             \u001b[0mresult\u001b[0m \u001b[0;34m=\u001b[0m \u001b[0mself\u001b[0m\u001b[0;34m.\u001b[0m\u001b[0m_slow_forward\u001b[0m\u001b[0;34m(\u001b[0m\u001b[0;34m*\u001b[0m\u001b[0minput\u001b[0m\u001b[0;34m,\u001b[0m \u001b[0;34m**\u001b[0m\u001b[0mkwargs\u001b[0m\u001b[0;34m)\u001b[0m\u001b[0;34m\u001b[0m\u001b[0;34m\u001b[0m\u001b[0m\n\u001b[1;32m    549\u001b[0m         \u001b[0;32melse\u001b[0m\u001b[0;34m:\u001b[0m\u001b[0;34m\u001b[0m\u001b[0;34m\u001b[0m\u001b[0m\n\u001b[0;32m--> 550\u001b[0;31m             \u001b[0mresult\u001b[0m \u001b[0;34m=\u001b[0m \u001b[0mself\u001b[0m\u001b[0;34m.\u001b[0m\u001b[0mforward\u001b[0m\u001b[0;34m(\u001b[0m\u001b[0;34m*\u001b[0m\u001b[0minput\u001b[0m\u001b[0;34m,\u001b[0m \u001b[0;34m**\u001b[0m\u001b[0mkwargs\u001b[0m\u001b[0;34m)\u001b[0m\u001b[0;34m\u001b[0m\u001b[0;34m\u001b[0m\u001b[0m\n\u001b[0m\u001b[1;32m    551\u001b[0m         \u001b[0;32mfor\u001b[0m \u001b[0mhook\u001b[0m \u001b[0;32min\u001b[0m \u001b[0mself\u001b[0m\u001b[0;34m.\u001b[0m\u001b[0m_forward_hooks\u001b[0m\u001b[0;34m.\u001b[0m\u001b[0mvalues\u001b[0m\u001b[0;34m(\u001b[0m\u001b[0;34m)\u001b[0m\u001b[0;34m:\u001b[0m\u001b[0;34m\u001b[0m\u001b[0;34m\u001b[0m\u001b[0m\n\u001b[1;32m    552\u001b[0m             \u001b[0mhook_result\u001b[0m \u001b[0;34m=\u001b[0m \u001b[0mhook\u001b[0m\u001b[0;34m(\u001b[0m\u001b[0mself\u001b[0m\u001b[0;34m,\u001b[0m \u001b[0minput\u001b[0m\u001b[0;34m,\u001b[0m \u001b[0mresult\u001b[0m\u001b[0;34m)\u001b[0m\u001b[0;34m\u001b[0m\u001b[0;34m\u001b[0m\u001b[0m\n",
            "\u001b[0;32m<ipython-input-35-1c8dff9e3e08>\u001b[0m in \u001b[0;36mforward\u001b[0;34m(self, x)\u001b[0m\n\u001b[1;32m     24\u001b[0m \u001b[0;34m\u001b[0m\u001b[0m\n\u001b[1;32m     25\u001b[0m   \u001b[0;32mdef\u001b[0m \u001b[0mforward\u001b[0m\u001b[0;34m(\u001b[0m\u001b[0mself\u001b[0m\u001b[0;34m,\u001b[0m \u001b[0mx\u001b[0m\u001b[0;34m)\u001b[0m\u001b[0;34m:\u001b[0m\u001b[0;34m\u001b[0m\u001b[0;34m\u001b[0m\u001b[0m\n\u001b[0;32m---> 26\u001b[0;31m     \u001b[0mout\u001b[0m \u001b[0;34m=\u001b[0m \u001b[0mself\u001b[0m\u001b[0;34m.\u001b[0m\u001b[0mdnn\u001b[0m\u001b[0;34m(\u001b[0m\u001b[0mx\u001b[0m\u001b[0;34m)\u001b[0m\u001b[0;34m\u001b[0m\u001b[0;34m\u001b[0m\u001b[0m\n\u001b[0m\u001b[1;32m     27\u001b[0m     \u001b[0mout\u001b[0m \u001b[0;34m=\u001b[0m \u001b[0mout\u001b[0m\u001b[0;34m.\u001b[0m\u001b[0mview\u001b[0m\u001b[0;34m(\u001b[0m\u001b[0mout\u001b[0m\u001b[0;34m.\u001b[0m\u001b[0msize\u001b[0m\u001b[0;34m(\u001b[0m\u001b[0;34m)\u001b[0m\u001b[0;34m[\u001b[0m\u001b[0;36m0\u001b[0m\u001b[0;34m]\u001b[0m\u001b[0;34m,\u001b[0m \u001b[0;34m-\u001b[0m\u001b[0;36m1\u001b[0m\u001b[0;34m)\u001b[0m\u001b[0;34m\u001b[0m\u001b[0;34m\u001b[0m\u001b[0m\n",
            "\u001b[0;32m/usr/local/lib/python3.6/dist-packages/torch/nn/modules/module.py\u001b[0m in \u001b[0;36m__call__\u001b[0;34m(self, *input, **kwargs)\u001b[0m\n\u001b[1;32m    548\u001b[0m             \u001b[0mresult\u001b[0m \u001b[0;34m=\u001b[0m \u001b[0mself\u001b[0m\u001b[0;34m.\u001b[0m\u001b[0m_slow_forward\u001b[0m\u001b[0;34m(\u001b[0m\u001b[0;34m*\u001b[0m\u001b[0minput\u001b[0m\u001b[0;34m,\u001b[0m \u001b[0;34m**\u001b[0m\u001b[0mkwargs\u001b[0m\u001b[0;34m)\u001b[0m\u001b[0;34m\u001b[0m\u001b[0;34m\u001b[0m\u001b[0m\n\u001b[1;32m    549\u001b[0m         \u001b[0;32melse\u001b[0m\u001b[0;34m:\u001b[0m\u001b[0;34m\u001b[0m\u001b[0;34m\u001b[0m\u001b[0m\n\u001b[0;32m--> 550\u001b[0;31m             \u001b[0mresult\u001b[0m \u001b[0;34m=\u001b[0m \u001b[0mself\u001b[0m\u001b[0;34m.\u001b[0m\u001b[0mforward\u001b[0m\u001b[0;34m(\u001b[0m\u001b[0;34m*\u001b[0m\u001b[0minput\u001b[0m\u001b[0;34m,\u001b[0m \u001b[0;34m**\u001b[0m\u001b[0mkwargs\u001b[0m\u001b[0;34m)\u001b[0m\u001b[0;34m\u001b[0m\u001b[0;34m\u001b[0m\u001b[0m\n\u001b[0m\u001b[1;32m    551\u001b[0m         \u001b[0;32mfor\u001b[0m \u001b[0mhook\u001b[0m \u001b[0;32min\u001b[0m \u001b[0mself\u001b[0m\u001b[0;34m.\u001b[0m\u001b[0m_forward_hooks\u001b[0m\u001b[0;34m.\u001b[0m\u001b[0mvalues\u001b[0m\u001b[0;34m(\u001b[0m\u001b[0;34m)\u001b[0m\u001b[0;34m:\u001b[0m\u001b[0;34m\u001b[0m\u001b[0;34m\u001b[0m\u001b[0m\n\u001b[1;32m    552\u001b[0m             \u001b[0mhook_result\u001b[0m \u001b[0;34m=\u001b[0m \u001b[0mhook\u001b[0m\u001b[0;34m(\u001b[0m\u001b[0mself\u001b[0m\u001b[0;34m,\u001b[0m \u001b[0minput\u001b[0m\u001b[0;34m,\u001b[0m \u001b[0mresult\u001b[0m\u001b[0;34m)\u001b[0m\u001b[0;34m\u001b[0m\u001b[0;34m\u001b[0m\u001b[0m\n",
            "\u001b[0;32m/usr/local/lib/python3.6/dist-packages/torch/nn/modules/container.py\u001b[0m in \u001b[0;36mforward\u001b[0;34m(self, input)\u001b[0m\n\u001b[1;32m     98\u001b[0m     \u001b[0;32mdef\u001b[0m \u001b[0mforward\u001b[0m\u001b[0;34m(\u001b[0m\u001b[0mself\u001b[0m\u001b[0;34m,\u001b[0m \u001b[0minput\u001b[0m\u001b[0;34m)\u001b[0m\u001b[0;34m:\u001b[0m\u001b[0;34m\u001b[0m\u001b[0;34m\u001b[0m\u001b[0m\n\u001b[1;32m     99\u001b[0m         \u001b[0;32mfor\u001b[0m \u001b[0mmodule\u001b[0m \u001b[0;32min\u001b[0m \u001b[0mself\u001b[0m\u001b[0;34m:\u001b[0m\u001b[0;34m\u001b[0m\u001b[0;34m\u001b[0m\u001b[0m\n\u001b[0;32m--> 100\u001b[0;31m             \u001b[0minput\u001b[0m \u001b[0;34m=\u001b[0m \u001b[0mmodule\u001b[0m\u001b[0;34m(\u001b[0m\u001b[0minput\u001b[0m\u001b[0;34m)\u001b[0m\u001b[0;34m\u001b[0m\u001b[0;34m\u001b[0m\u001b[0m\n\u001b[0m\u001b[1;32m    101\u001b[0m         \u001b[0;32mreturn\u001b[0m \u001b[0minput\u001b[0m\u001b[0;34m\u001b[0m\u001b[0;34m\u001b[0m\u001b[0m\n\u001b[1;32m    102\u001b[0m \u001b[0;34m\u001b[0m\u001b[0m\n",
            "\u001b[0;32m/usr/local/lib/python3.6/dist-packages/torch/nn/modules/module.py\u001b[0m in \u001b[0;36m__call__\u001b[0;34m(self, *input, **kwargs)\u001b[0m\n\u001b[1;32m    548\u001b[0m             \u001b[0mresult\u001b[0m \u001b[0;34m=\u001b[0m \u001b[0mself\u001b[0m\u001b[0;34m.\u001b[0m\u001b[0m_slow_forward\u001b[0m\u001b[0;34m(\u001b[0m\u001b[0;34m*\u001b[0m\u001b[0minput\u001b[0m\u001b[0;34m,\u001b[0m \u001b[0;34m**\u001b[0m\u001b[0mkwargs\u001b[0m\u001b[0;34m)\u001b[0m\u001b[0;34m\u001b[0m\u001b[0;34m\u001b[0m\u001b[0m\n\u001b[1;32m    549\u001b[0m         \u001b[0;32melse\u001b[0m\u001b[0;34m:\u001b[0m\u001b[0;34m\u001b[0m\u001b[0;34m\u001b[0m\u001b[0m\n\u001b[0;32m--> 550\u001b[0;31m             \u001b[0mresult\u001b[0m \u001b[0;34m=\u001b[0m \u001b[0mself\u001b[0m\u001b[0;34m.\u001b[0m\u001b[0mforward\u001b[0m\u001b[0;34m(\u001b[0m\u001b[0;34m*\u001b[0m\u001b[0minput\u001b[0m\u001b[0;34m,\u001b[0m \u001b[0;34m**\u001b[0m\u001b[0mkwargs\u001b[0m\u001b[0;34m)\u001b[0m\u001b[0;34m\u001b[0m\u001b[0;34m\u001b[0m\u001b[0m\n\u001b[0m\u001b[1;32m    551\u001b[0m         \u001b[0;32mfor\u001b[0m \u001b[0mhook\u001b[0m \u001b[0;32min\u001b[0m \u001b[0mself\u001b[0m\u001b[0;34m.\u001b[0m\u001b[0m_forward_hooks\u001b[0m\u001b[0;34m.\u001b[0m\u001b[0mvalues\u001b[0m\u001b[0;34m(\u001b[0m\u001b[0;34m)\u001b[0m\u001b[0;34m:\u001b[0m\u001b[0;34m\u001b[0m\u001b[0;34m\u001b[0m\u001b[0m\n\u001b[1;32m    552\u001b[0m             \u001b[0mhook_result\u001b[0m \u001b[0;34m=\u001b[0m \u001b[0mhook\u001b[0m\u001b[0;34m(\u001b[0m\u001b[0mself\u001b[0m\u001b[0;34m,\u001b[0m \u001b[0minput\u001b[0m\u001b[0;34m,\u001b[0m \u001b[0mresult\u001b[0m\u001b[0;34m)\u001b[0m\u001b[0;34m\u001b[0m\u001b[0;34m\u001b[0m\u001b[0m\n",
            "\u001b[0;32m/usr/local/lib/python3.6/dist-packages/torch/nn/modules/linear.py\u001b[0m in \u001b[0;36mforward\u001b[0;34m(self, input)\u001b[0m\n\u001b[1;32m     85\u001b[0m \u001b[0;34m\u001b[0m\u001b[0m\n\u001b[1;32m     86\u001b[0m     \u001b[0;32mdef\u001b[0m \u001b[0mforward\u001b[0m\u001b[0;34m(\u001b[0m\u001b[0mself\u001b[0m\u001b[0;34m,\u001b[0m \u001b[0minput\u001b[0m\u001b[0;34m)\u001b[0m\u001b[0;34m:\u001b[0m\u001b[0;34m\u001b[0m\u001b[0;34m\u001b[0m\u001b[0m\n\u001b[0;32m---> 87\u001b[0;31m         \u001b[0;32mreturn\u001b[0m \u001b[0mF\u001b[0m\u001b[0;34m.\u001b[0m\u001b[0mlinear\u001b[0m\u001b[0;34m(\u001b[0m\u001b[0minput\u001b[0m\u001b[0;34m,\u001b[0m \u001b[0mself\u001b[0m\u001b[0;34m.\u001b[0m\u001b[0mweight\u001b[0m\u001b[0;34m,\u001b[0m \u001b[0mself\u001b[0m\u001b[0;34m.\u001b[0m\u001b[0mbias\u001b[0m\u001b[0;34m)\u001b[0m\u001b[0;34m\u001b[0m\u001b[0;34m\u001b[0m\u001b[0m\n\u001b[0m\u001b[1;32m     88\u001b[0m \u001b[0;34m\u001b[0m\u001b[0m\n\u001b[1;32m     89\u001b[0m     \u001b[0;32mdef\u001b[0m \u001b[0mextra_repr\u001b[0m\u001b[0;34m(\u001b[0m\u001b[0mself\u001b[0m\u001b[0;34m)\u001b[0m\u001b[0;34m:\u001b[0m\u001b[0;34m\u001b[0m\u001b[0;34m\u001b[0m\u001b[0m\n",
            "\u001b[0;32m/usr/local/lib/python3.6/dist-packages/torch/nn/functional.py\u001b[0m in \u001b[0;36mlinear\u001b[0;34m(input, weight, bias)\u001b[0m\n\u001b[1;32m   1610\u001b[0m         \u001b[0mret\u001b[0m \u001b[0;34m=\u001b[0m \u001b[0mtorch\u001b[0m\u001b[0;34m.\u001b[0m\u001b[0maddmm\u001b[0m\u001b[0;34m(\u001b[0m\u001b[0mbias\u001b[0m\u001b[0;34m,\u001b[0m \u001b[0minput\u001b[0m\u001b[0;34m,\u001b[0m \u001b[0mweight\u001b[0m\u001b[0;34m.\u001b[0m\u001b[0mt\u001b[0m\u001b[0;34m(\u001b[0m\u001b[0;34m)\u001b[0m\u001b[0;34m)\u001b[0m\u001b[0;34m\u001b[0m\u001b[0;34m\u001b[0m\u001b[0m\n\u001b[1;32m   1611\u001b[0m     \u001b[0;32melse\u001b[0m\u001b[0;34m:\u001b[0m\u001b[0;34m\u001b[0m\u001b[0;34m\u001b[0m\u001b[0m\n\u001b[0;32m-> 1612\u001b[0;31m         \u001b[0moutput\u001b[0m \u001b[0;34m=\u001b[0m \u001b[0minput\u001b[0m\u001b[0;34m.\u001b[0m\u001b[0mmatmul\u001b[0m\u001b[0;34m(\u001b[0m\u001b[0mweight\u001b[0m\u001b[0;34m.\u001b[0m\u001b[0mt\u001b[0m\u001b[0;34m(\u001b[0m\u001b[0;34m)\u001b[0m\u001b[0;34m)\u001b[0m\u001b[0;34m\u001b[0m\u001b[0;34m\u001b[0m\u001b[0m\n\u001b[0m\u001b[1;32m   1613\u001b[0m         \u001b[0;32mif\u001b[0m \u001b[0mbias\u001b[0m \u001b[0;32mis\u001b[0m \u001b[0;32mnot\u001b[0m \u001b[0;32mNone\u001b[0m\u001b[0;34m:\u001b[0m\u001b[0;34m\u001b[0m\u001b[0;34m\u001b[0m\u001b[0m\n\u001b[1;32m   1614\u001b[0m             \u001b[0moutput\u001b[0m \u001b[0;34m+=\u001b[0m \u001b[0mbias\u001b[0m\u001b[0;34m\u001b[0m\u001b[0;34m\u001b[0m\u001b[0m\n",
            "\u001b[0;31mRuntimeError\u001b[0m: size mismatch, m1: [49152 x 128], m2: [49152 x 1024] at /pytorch/aten/src/THC/generic/THCTensorMathBlas.cu:283"
          ]
        }
      ]
    },
    {
      "cell_type": "markdown",
      "metadata": {
        "id": "RZu1ITnIS3jN",
        "colab_type": "text"
      },
      "source": [
        "将validation set和training set共同训练"
      ]
    },
    {
      "cell_type": "code",
      "metadata": {
        "id": "KeULF25GEAoW",
        "colab_type": "code",
        "colab": {}
      },
      "source": [
        "train_val_x = np.concatenate((train_x, val_x), axis=0)\n",
        "train_val_y = np.concatenate((train_y, val_y), axis=0)\n",
        "train_val_set = ImgDataset(train_val_x, train_val_y, train_transform)\n",
        "train_val_loader = DataLoader(train_val_set, batch_size=batch_size, shuffle=True)"
      ],
      "execution_count": 0,
      "outputs": []
    },
    {
      "cell_type": "code",
      "metadata": {
        "id": "LuIiqT7hTbgh",
        "colab_type": "code",
        "colab": {
          "base_uri": "https://localhost:8080/",
          "height": 571
        },
        "outputId": "db27eb9a-4f73-4896-cc32-52727a47c549"
      },
      "source": [
        "model_best = Classifier().cuda()\n",
        "loss = nn.CrossEntropyLoss()\n",
        "optimizer = torch.optim.Adam(model_best.parameters(), lr = 0.001)\n",
        "\n",
        "for epoch in range(num_epoch):\n",
        "  epoch_start_time = time.time()\n",
        "  train_acc = 0.0\n",
        "  train_loss = 0.0\n",
        "\n",
        "  model_best.train()\n",
        "\n",
        "  for i, data in enumerate(train_val_loader):\n",
        "    optimizer.zero_grad()\n",
        "    train_pred = model_best(data[0].cuda())\n",
        "    batch_loss = loss(train_pred, data[1].cuda())\n",
        "    batch_loss.backward()\n",
        "    optimizer.step()\n",
        "\n",
        "    train_acc += np.sum(np.argmax(train_pred.cpu().data.numpy(), axis=1) == data[1].numpy())\n",
        "    train_loss += batch_loss.item()\n",
        "\n",
        "  print('[%03d/%03d] %2.2f sec(s) Train Acc: %3.6f Loss: %3.6f' % \\\n",
        "      (epoch + 1, num_epoch, time.time()-epoch_start_time, \\\n",
        "      train_acc/train_val_set.__len__(), train_loss/train_val_set.__len__()))"
      ],
      "execution_count": 28,
      "outputs": [
        {
          "output_type": "stream",
          "text": [
            "[001/030] 36.32 sec(s) Train Acc: 0.272789 Loss: 0.016518\n",
            "[002/030] 36.38 sec(s) Train Acc: 0.391847 Loss: 0.013595\n",
            "[003/030] 36.47 sec(s) Train Acc: 0.456077 Loss: 0.012302\n",
            "[004/030] 36.48 sec(s) Train Acc: 0.507295 Loss: 0.011101\n",
            "[005/030] 36.46 sec(s) Train Acc: 0.539561 Loss: 0.010320\n",
            "[006/030] 36.51 sec(s) Train Acc: 0.582130 Loss: 0.009452\n",
            "[007/030] 36.52 sec(s) Train Acc: 0.610033 Loss: 0.008919\n",
            "[008/030] 36.67 sec(s) Train Acc: 0.626880 Loss: 0.008387\n",
            "[009/030] 36.57 sec(s) Train Acc: 0.656212 Loss: 0.007805\n",
            "[010/030] 36.62 sec(s) Train Acc: 0.675542 Loss: 0.007259\n",
            "[011/030] 36.64 sec(s) Train Acc: 0.697353 Loss: 0.006861\n",
            "[012/030] 36.73 sec(s) Train Acc: 0.720894 Loss: 0.006370\n",
            "[013/030] 36.66 sec(s) Train Acc: 0.740223 Loss: 0.005918\n",
            "[014/030] 36.73 sec(s) Train Acc: 0.752632 Loss: 0.005623\n",
            "[015/030] 36.70 sec(s) Train Acc: 0.768878 Loss: 0.005187\n",
            "[016/030] 36.74 sec(s) Train Acc: 0.775722 Loss: 0.004940\n",
            "[017/030] 36.60 sec(s) Train Acc: 0.791366 Loss: 0.004675\n",
            "[018/030] 36.54 sec(s) Train Acc: 0.804302 Loss: 0.004304\n",
            "[019/030] 36.54 sec(s) Train Acc: 0.816336 Loss: 0.004124\n",
            "[020/030] 36.50 sec(s) Train Acc: 0.829949 Loss: 0.003812\n",
            "[021/030] 36.40 sec(s) Train Acc: 0.837395 Loss: 0.003610\n",
            "[022/030] 36.39 sec(s) Train Acc: 0.850557 Loss: 0.003290\n",
            "[023/030] 36.36 sec(s) Train Acc: 0.865373 Loss: 0.003013\n",
            "[024/030] 36.35 sec(s) Train Acc: 0.870187 Loss: 0.002861\n",
            "[025/030] 36.41 sec(s) Train Acc: 0.890117 Loss: 0.002423\n",
            "[026/030] 36.30 sec(s) Train Acc: 0.894329 Loss: 0.002370\n",
            "[027/030] 36.30 sec(s) Train Acc: 0.895683 Loss: 0.002321\n",
            "[028/030] 36.31 sec(s) Train Acc: 0.902452 Loss: 0.002092\n",
            "[029/030] 36.33 sec(s) Train Acc: 0.918697 Loss: 0.001811\n",
            "[030/030] 36.33 sec(s) Train Acc: 0.921330 Loss: 0.001726\n"
          ],
          "name": "stdout"
        }
      ]
    },
    {
      "cell_type": "markdown",
      "metadata": {
        "id": "X12sdhixUfuw",
        "colab_type": "text"
      },
      "source": [
        "## 测试"
      ]
    },
    {
      "cell_type": "code",
      "metadata": {
        "id": "acP4ygvZUcV5",
        "colab_type": "code",
        "colab": {}
      },
      "source": [
        "test_set = ImgDataset(test_x, transform=test_transform)\n",
        "test_loader = DataLoader(test_set, batch_size=batch_size, shuffle=False)\n",
        "\n",
        "model_best.eval()\n",
        "prediction = []\n",
        "\n",
        "with torch.no_grad():\n",
        "  for i, data in enumerate(test_loader):\n",
        "    test_pred = model_best(data.cuda())\n",
        "    test_label = np.argmax(test_pred.cpu().data.numpy(), axis=1)\n",
        "    for y in test_label:\n",
        "      prediction.append(y)\n",
        "\n"
      ],
      "execution_count": 0,
      "outputs": []
    },
    {
      "cell_type": "markdown",
      "metadata": {
        "id": "cm2LxSjpVFcy",
        "colab_type": "text"
      },
      "source": [
        "## 保存结果"
      ]
    },
    {
      "cell_type": "code",
      "metadata": {
        "id": "g1DaF4plVG1h",
        "colab_type": "code",
        "colab": {}
      },
      "source": [
        "with open('predict_cnn.csv', 'w') as f:\n",
        "  f.write('Id,Category\\n')\n",
        "  for i, y in enumerate(prediction):\n",
        "    f.write('{},{}\\n'.format(i,y))"
      ],
      "execution_count": 0,
      "outputs": []
    },
    {
      "cell_type": "code",
      "metadata": {
        "id": "rwMH5LZebSjP",
        "colab_type": "code",
        "colab": {
          "base_uri": "https://localhost:8080/",
          "height": 35
        },
        "outputId": "b13c33e1-3490-4e09-ecc9-c95a5640dd90"
      },
      "source": [
        "!ls"
      ],
      "execution_count": 34,
      "outputs": [
        {
          "output_type": "stream",
          "text": [
            "drive  predict_cnn.csv\tpredict.csv  sample_data\n"
          ],
          "name": "stdout"
        }
      ]
    },
    {
      "cell_type": "code",
      "metadata": {
        "id": "svYtQJsIpELR",
        "colab_type": "code",
        "colab": {}
      },
      "source": [
        ""
      ],
      "execution_count": 0,
      "outputs": []
    }
  ]
}