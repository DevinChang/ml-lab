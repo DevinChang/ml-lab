{
  "nbformat": 4,
  "nbformat_minor": 0,
  "metadata": {
    "kernelspec": {
      "display_name": "Python 3",
      "language": "python",
      "name": "python3"
    },
    "language_info": {
      "codemirror_mode": {
        "name": "ipython",
        "version": 3
      },
      "file_extension": ".py",
      "mimetype": "text/x-python",
      "name": "python",
      "nbconvert_exporter": "python",
      "pygments_lexer": "ipython3",
      "version": "3.6.9-final"
    },
    "colab": {
      "name": "Lab3_CNN.ipynb",
      "provenance": [],
      "collapsed_sections": []
    },
    "accelerator": "GPU"
  },
  "cells": [
    {
      "cell_type": "markdown",
      "metadata": {
        "id": "GYgUGNnxEAnv",
        "colab_type": "text"
      },
      "source": [
        "# 用CNN实现图片的分类"
      ]
    },
    {
      "cell_type": "code",
      "metadata": {
        "id": "Yx_wqqbCEAnw",
        "colab_type": "code",
        "colab": {}
      },
      "source": [
        "import os\n",
        "import numpy as np\n",
        "import cv2\n",
        "import torch\n",
        "import torch.nn as nn\n",
        "import torchvision.transforms as transforms\n",
        "import pandas as pd\n",
        "from torch.utils.data import DataLoader, Dataset\n",
        "import time"
      ],
      "execution_count": 0,
      "outputs": []
    },
    {
      "cell_type": "markdown",
      "metadata": {
        "id": "I2PVs0qWEAn1",
        "colab_type": "text"
      },
      "source": [
        "## 读取图像"
      ]
    },
    {
      "cell_type": "code",
      "metadata": {
        "id": "MlysIHHEEJCq",
        "colab_type": "code",
        "outputId": "0cb9f47b-69c5-40db-e949-e3cc65a4b99c",
        "colab": {
          "base_uri": "https://localhost:8080/",
          "height": 121
        }
      },
      "source": [
        "from google.colab import drive\n",
        "drive.mount('/content/drive')"
      ],
      "execution_count": 2,
      "outputs": [
        {
          "output_type": "stream",
          "text": [
            "Go to this URL in a browser: https://accounts.google.com/o/oauth2/auth?client_id=947318989803-6bn6qk8qdgf4n4g3pfee6491hc0brc4i.apps.googleusercontent.com&redirect_uri=urn%3aietf%3awg%3aoauth%3a2.0%3aoob&response_type=code&scope=email%20https%3a%2f%2fwww.googleapis.com%2fauth%2fdocs.test%20https%3a%2f%2fwww.googleapis.com%2fauth%2fdrive%20https%3a%2f%2fwww.googleapis.com%2fauth%2fdrive.photos.readonly%20https%3a%2f%2fwww.googleapis.com%2fauth%2fpeopleapi.readonly\n",
            "\n",
            "Enter your authorization code:\n",
            "··········\n",
            "Mounted at /content/drive\n"
          ],
          "name": "stdout"
        }
      ]
    },
    {
      "cell_type": "code",
      "metadata": {
        "id": "CeA9zZz-EAn2",
        "colab_type": "code",
        "colab": {}
      },
      "source": [
        "def readfile(path, label):\n",
        "    '''\n",
        "    读取图像\n",
        "    parameter:\n",
        "        @path: 文件的路径\n",
        "        @label: 布尔值，表示是否需要返回标签\n",
        "    return:\n",
        "        读取图像后的array\n",
        "    '''\n",
        "    img_dir = sorted((os.listdir(path)))\n",
        "    x = np.zeros((len(img_dir), 128, 128, 3), dtype=np.uint8) # 将每张图像转换成128 × 128 × 3的矩阵\n",
        "    y = np.zeros((len(img_dir)), dtype=np.uint8) # 图像输出的标签\n",
        "    for i, file in enumerate(img_dir):\n",
        "        img = cv2.imread(os.path.join(path, file)) # cv2.imread()返回的是[height, width, channel]\n",
        "        x[i, :, :] = cv2.resize(img, (128, 128)) # 将图像的高度和宽度的像素值指定为128\n",
        "        if label:\n",
        "          y[i] = int(file.split(\"_\")[0])\n",
        "\n",
        "    if label:\n",
        "        return x, y\n",
        "    else:\n",
        "        return x\n",
        "        "
      ],
      "execution_count": 0,
      "outputs": []
    },
    {
      "cell_type": "code",
      "metadata": {
        "id": "UUqiuT-rEb7H",
        "colab_type": "code",
        "colab": {}
      },
      "source": [
        "# !unzip /content/drive/My\\ Drive/data/hw3/food-11.zip -d /content/drive/My\\ Drive/data/hw3/food-11"
      ],
      "execution_count": 0,
      "outputs": []
    },
    {
      "cell_type": "code",
      "metadata": {
        "id": "FTVxfim9EAn6",
        "colab_type": "code",
        "colab": {
          "base_uri": "https://localhost:8080/",
          "height": 67
        },
        "outputId": "d63dd215-d02d-4f7c-8ce2-b24e11594340"
      },
      "source": [
        "# 读取图像\n",
        "data_dir = '/content/drive/My Drive/data/hw3/food-11/food-11'\n",
        "train_x, train_y = readfile(os.path.join(data_dir, \"training\"), True) # 训练数据\n",
        "print(\"Size of training data = {}\".format(len(train_x)))\n",
        "val_x, val_y = readfile(os.path.join(data_dir, \"validation\"), True) # 验证集\n",
        "print(\"Size of validation data = {}\".format(len(val_x)))\n",
        "test_x = readfile(os.path.join(data_dir, \"testing\"), False) # 测试集\n",
        "print(\"Size of testing data = {}\".format(len(test_x)))"
      ],
      "execution_count": 5,
      "outputs": [
        {
          "output_type": "stream",
          "text": [
            "Size of training data = 9866\n",
            "Size of validation data = 3430\n",
            "Size of testing data = 3347\n"
          ],
          "name": "stdout"
        }
      ]
    },
    {
      "cell_type": "markdown",
      "metadata": {
        "id": "RfhAYjemEAn_",
        "colab_type": "text"
      },
      "source": [
        "## 处理数据\n",
        "主要利用pytorch的torch.utils.data来处理数据。\n",
        "这里需要用到data augment技术来增强源数据"
      ]
    },
    {
      "cell_type": "code",
      "metadata": {
        "id": "ETwH4QPJEAoA",
        "colab_type": "code",
        "colab": {}
      },
      "source": [
        "# 对trianing data做数据增强\n",
        "train_transform = transforms.Compose([\n",
        "    transforms.ToPILImage(), # 将tensor或者array的数据转换成PIL Image类型数据\n",
        "    transforms.RandomHorizontalFlip(), # 随机对PIL图片进行水平翻转\n",
        "    transforms.RandomRotation(15), # 将图片旋转15 degree\n",
        "    transforms.ToTensor(), # 将PIL Image或者narray转换成tensor\n",
        "])\n",
        "\n",
        "# 测试数据不需要做数据增强，只需转换格式\n",
        "test_transform = transforms.Compose([\n",
        "    transforms.ToPILImage(), \n",
        "    transforms.ToTensor(),\n",
        "])"
      ],
      "execution_count": 0,
      "outputs": []
    },
    {
      "cell_type": "code",
      "metadata": {
        "id": "ZlqQicnvEAoE",
        "colab_type": "code",
        "colab": {}
      },
      "source": [
        "class ImgDataset(Dataset):\n",
        "    def __init__(self, x, y=None, transform=None):\n",
        "        self.x = x\n",
        "        # label is required to be a LongTensor\n",
        "        self.y = y\n",
        "        if y is not None:\n",
        "            self.y = torch.LongTensor(y) # pytorch tensor默认的类型是double，涉及到图像故保存更高精度\n",
        "        self.transform = transform\n",
        "    def __len__(self):\n",
        "        return len(self.x)\n",
        "    def __getitem__(self, index):\n",
        "        X = self.x[index]\n",
        "        if self.transform is not None:\n",
        "            X = self.transform(X)\n",
        "        if self.y is not None:\n",
        "            Y = self.y[index]\n",
        "            return X, Y\n",
        "        else:\n",
        "            return X\n"
      ],
      "execution_count": 0,
      "outputs": []
    },
    {
      "cell_type": "code",
      "metadata": {
        "id": "jH-1Wy45EAoI",
        "colab_type": "code",
        "colab": {}
      },
      "source": [
        "# 分割数据集\n",
        "batch_size = 128\n",
        "train_set = ImgDataset(train_x, train_y, train_transform)\n",
        "val_set = ImgDataset(val_x, val_y, test_transform)\n",
        "train_loader = DataLoader(train_set, batch_size=batch_size, shuffle=True)\n",
        "val_loader = DataLoader(val_set, batch_size=batch_size, shuffle=False)"
      ],
      "execution_count": 0,
      "outputs": []
    },
    {
      "cell_type": "markdown",
      "metadata": {
        "id": "YaEHH92IEAoM",
        "colab_type": "text"
      },
      "source": [
        "## 定义Model (CNN)"
      ]
    },
    {
      "cell_type": "code",
      "metadata": {
        "id": "KM0vYfCoEAoN",
        "colab_type": "code",
        "colab": {}
      },
      "source": [
        "class Classifier(nn.Module):\n",
        "    def __init__(self):\n",
        "        super(Classifier, self).__init__()\n",
        "        \n",
        "        \n",
        "        self.cnn = nn.Sequential(\n",
        "            # 第一层网络\n",
        "            # torch.nn.Conv2d(in_channels, out_channels, kernel_size, stride, padding)\n",
        "            # input的图像维度[3, 128, 128]\n",
        "            nn.Conv2d(3, 64, 3, 1, 1),  # [64, 128, 128]\n",
        "            nn.BatchNorm2d(64), # 在cnn的卷积层之后基本都要连接一个BatchNorm函数用来对数据进行数据的归一化处理，使得数据在进行ReLu之前不会因为数据过大而导致网络性能的不稳定\n",
        "            nn.ReLU(),\n",
        "            # torch.nn.MaxPool2d(kernel_size, stride, padding)\n",
        "            nn.MaxPool2d(2, 2, 0),      # [64, 64, 64]\n",
        "\n",
        "            # 第二层网络\n",
        "            nn.Conv2d(64, 128, 3, 1, 1), # [128, 64, 64]\n",
        "            nn.BatchNorm2d(128),\n",
        "            nn.ReLU(),\n",
        "            nn.MaxPool2d(2, 2, 0),      # [128, 32, 32]\n",
        "\n",
        "            # 第三层网络\n",
        "            nn.Conv2d(128, 256, 3, 1, 1), # [256, 32, 32]\n",
        "            nn.BatchNorm2d(256),\n",
        "            nn.ReLU(),\n",
        "            nn.MaxPool2d(2, 2, 0),      # [256, 16, 16]\n",
        "\n",
        "            # 第四层网络\n",
        "            nn.Conv2d(256, 512, 3, 1, 1), # [512, 16, 16]\n",
        "            nn.BatchNorm2d(512),\n",
        "            nn.ReLU(),\n",
        "            nn.MaxPool2d(2, 2, 0),       # [512, 8, 8]\n",
        "            \n",
        "            # 第五层网络\n",
        "            nn.Conv2d(512, 512, 3, 1, 1), # [512, 8, 8]\n",
        "            nn.BatchNorm2d(512),\n",
        "            nn.ReLU(),\n",
        "            nn.MaxPool2d(2, 2, 0),       # [512, 4, 4]\n",
        "        )\n",
        "        # 全连接层\n",
        "        self.fc = nn.Sequential(\n",
        "            nn.Linear(512*4*4, 1024),\n",
        "            nn.ReLU(),\n",
        "            nn.Linear(1024, 512),\n",
        "            nn.ReLU(),\n",
        "            nn.Linear(512, 11)\n",
        "        )\n",
        "\n",
        "    def forward(self, x):\n",
        "        out = self.cnn(x)\n",
        "        out = out.view(out.size()[0], -1)\n",
        "        return self.fc(out)"
      ],
      "execution_count": 0,
      "outputs": []
    },
    {
      "cell_type": "markdown",
      "metadata": {
        "id": "nqKmACH-EAoR",
        "colab_type": "text"
      },
      "source": [
        "### CNN Model Training"
      ]
    },
    {
      "cell_type": "code",
      "metadata": {
        "id": "J9Cc7QAPEAoS",
        "colab_type": "code",
        "outputId": "7974c362-9f50-4ef9-eeff-05ce31f2389c",
        "colab": {
          "base_uri": "https://localhost:8080/",
          "height": 521
        }
      },
      "source": [
        "model = Classifier().cuda()\n",
        "\n",
        "loss = nn.CrossEntropyLoss() # loss采用crossEntropy是因为该问题是个分类问题\n",
        "optimizer = torch.optim.Adam(model.parameters(), lr=0.001) # optimizer 使用 Adam\n",
        "num_epoch = 30\n",
        "\n",
        "for epoch in range(num_epoch):\n",
        "    epoch_start_time = time.time()\n",
        "    train_acc = 0.0\n",
        "    train_loss = 0.0\n",
        "    val_acc = 0.0\n",
        "    val_loss = 0.0\n",
        "\n",
        "    # cnn model\n",
        "    model.train() \n",
        "\n",
        "    for i, data in enumerate(train_loader):\n",
        "        optimizer.zero_grad() \n",
        "        # data[0]是x，data[1]是计算出的y\n",
        "        train_pred = model(data[0].cuda()) # 利用model预测概率分布，实际上调用model的forward\n",
        "        batch_loss = loss(train_pred, data[1].cuda()) # 计算loss\n",
        "        batch_loss.backward() # 利用back propagation计算每个参数的gradient\n",
        "        optimizer.step() # 以optimizer 用gradient更新参数值\n",
        "\n",
        "        train_acc += np.sum(np.argmax(train_pred.cpu().data.numpy(), axis=1) == data[1].numpy())\n",
        "        train_loss += batch_loss.item()\n",
        "    \n",
        "    model.eval()\n",
        "    # torch.no_grad()表示不需要进行梯度计算\n",
        "    with torch.no_grad():\n",
        "        for i, data in enumerate(val_loader):\n",
        "            val_pred = model(data[0].cuda())\n",
        "            batch_loss = loss(val_pred, data[1].cuda())\n",
        "\n",
        "            val_acc += np.sum(np.argmax(val_pred.cpu().data.numpy(), axis=1) == data[1].numpy())\n",
        "            val_loss += batch_loss.item()\n",
        "\n",
        "        \n",
        "        print('[%03d/%03d] %2.2f sec(s) Train Acc: %3.6f Loss: %3.6f | Val Acc: %3.6f loss: %3.6f' % \\\n",
        "            (epoch + 1, num_epoch, time.time()-epoch_start_time, \\\n",
        "             train_acc/train_set.__len__(), train_loss/train_set.__len__(), val_acc/val_set.__len__(), val_loss/val_set.__len__()))"
      ],
      "execution_count": 18,
      "outputs": [
        {
          "output_type": "stream",
          "text": [
            "[001/030] 16.58 sec(s) Train Acc: 0.234036 Loss: 0.017736 | Val Acc: 0.250729 loss: 0.016891\n",
            "[002/030] 16.61 sec(s) Train Acc: 0.324853 Loss: 0.015006 | Val Acc: 0.226822 loss: 0.019867\n",
            "[003/030] 16.58 sec(s) Train Acc: 0.393371 Loss: 0.013730 | Val Acc: 0.289796 loss: 0.017929\n",
            "[004/030] 16.56 sec(s) Train Acc: 0.434928 Loss: 0.012776 | Val Acc: 0.332945 loss: 0.016147\n",
            "[005/030] 16.62 sec(s) Train Acc: 0.466755 Loss: 0.012065 | Val Acc: 0.425948 loss: 0.013626\n",
            "[006/030] 16.57 sec(s) Train Acc: 0.497669 Loss: 0.011514 | Val Acc: 0.476676 loss: 0.012291\n",
            "[007/030] 16.63 sec(s) Train Acc: 0.528482 Loss: 0.010779 | Val Acc: 0.418076 loss: 0.015247\n",
            "[008/030] 16.53 sec(s) Train Acc: 0.555950 Loss: 0.010212 | Val Acc: 0.527697 loss: 0.011207\n",
            "[009/030] 16.57 sec(s) Train Acc: 0.577640 Loss: 0.009604 | Val Acc: 0.291545 loss: 0.028342\n",
            "[010/030] 16.59 sec(s) Train Acc: 0.607440 Loss: 0.008927 | Val Acc: 0.469679 loss: 0.012972\n",
            "[011/030] 16.58 sec(s) Train Acc: 0.622846 Loss: 0.008544 | Val Acc: 0.423032 loss: 0.015043\n",
            "[012/030] 16.67 sec(s) Train Acc: 0.649605 Loss: 0.007999 | Val Acc: 0.485131 loss: 0.012624\n",
            "[013/030] 16.55 sec(s) Train Acc: 0.665315 Loss: 0.007673 | Val Acc: 0.484257 loss: 0.013513\n",
            "[014/030] 16.58 sec(s) Train Acc: 0.671599 Loss: 0.007501 | Val Acc: 0.532945 loss: 0.012070\n",
            "[015/030] 16.57 sec(s) Train Acc: 0.697040 Loss: 0.006892 | Val Acc: 0.624198 loss: 0.009460\n",
            "[016/030] 16.58 sec(s) Train Acc: 0.694912 Loss: 0.006857 | Val Acc: 0.464723 loss: 0.015777\n",
            "[017/030] 16.59 sec(s) Train Acc: 0.723393 Loss: 0.006146 | Val Acc: 0.623324 loss: 0.009505\n",
            "[018/030] 16.57 sec(s) Train Acc: 0.742145 Loss: 0.005878 | Val Acc: 0.623907 loss: 0.010104\n",
            "[019/030] 16.59 sec(s) Train Acc: 0.745591 Loss: 0.005849 | Val Acc: 0.536735 loss: 0.011882\n",
            "[020/030] 16.59 sec(s) Train Acc: 0.755625 Loss: 0.005639 | Val Acc: 0.567638 loss: 0.011816\n",
            "[021/030] 16.61 sec(s) Train Acc: 0.762315 Loss: 0.005345 | Val Acc: 0.618659 loss: 0.009285\n",
            "[022/030] 16.61 sec(s) Train Acc: 0.777113 Loss: 0.005157 | Val Acc: 0.611370 loss: 0.010755\n",
            "[023/030] 16.64 sec(s) Train Acc: 0.785222 Loss: 0.004765 | Val Acc: 0.623324 loss: 0.010309\n",
            "[024/030] 16.63 sec(s) Train Acc: 0.803568 Loss: 0.004384 | Val Acc: 0.607872 loss: 0.011424\n",
            "[025/030] 16.66 sec(s) Train Acc: 0.814819 Loss: 0.004215 | Val Acc: 0.588047 loss: 0.012555\n",
            "[026/030] 16.53 sec(s) Train Acc: 0.815731 Loss: 0.004189 | Val Acc: 0.660350 loss: 0.009560\n",
            "[027/030] 16.50 sec(s) Train Acc: 0.844517 Loss: 0.003549 | Val Acc: 0.663848 loss: 0.009258\n",
            "[028/030] 16.59 sec(s) Train Acc: 0.845023 Loss: 0.003479 | Val Acc: 0.649854 loss: 0.010447\n",
            "[029/030] 16.69 sec(s) Train Acc: 0.858301 Loss: 0.003130 | Val Acc: 0.686297 loss: 0.009293\n",
            "[030/030] 16.75 sec(s) Train Acc: 0.871681 Loss: 0.002848 | Val Acc: 0.686006 loss: 0.009487\n"
          ],
          "name": "stdout"
        }
      ]
    },
    {
      "cell_type": "markdown",
      "metadata": {
        "id": "2FeCozKnqb4j",
        "colab_type": "text"
      },
      "source": [
        "## 定义Model (DNN)"
      ]
    },
    {
      "cell_type": "code",
      "metadata": {
        "id": "GnGpNWJbqa-u",
        "colab_type": "code",
        "colab": {}
      },
      "source": [
        "class DNN(nn.Module):\n",
        "  def __init__(self):\n",
        "    super(DNN, self).__init__()\n",
        "\n",
        "    self.dnn = nn.Sequential(\n",
        "        nn.Linear(3*128*128, 1024),\n",
        "        nn.ELU(),\n",
        "\n",
        "        nn.Linear(1024, 1024), \n",
        "        nn.ELU(),\n",
        "\n",
        "        nn.Linear(1024, 1024), \n",
        "        nn.ELU(),\n",
        "\n",
        "        nn.Linear(1024, 512),\n",
        "        nn.ELU(),\n",
        "\n",
        "        nn.Linear(512, 256),\n",
        "        nn.ELU(),\n",
        "\n",
        "\n",
        "        nn.Linear(256, 128),\n",
        "        nn.ELU(),\n",
        "\n",
        "        nn.Linear(128, 11),\n",
        "    )\n",
        "\n",
        "  def forward(self, x):\n",
        "    x = x.view(-1, 3 * 128 * 128)\n",
        "    out = self.dnn(x)\n",
        "    #print(out.shape)\n",
        "    #out = out.view(out.size()[0], -1)\n",
        "    return out"
      ],
      "execution_count": 0,
      "outputs": []
    },
    {
      "cell_type": "markdown",
      "metadata": {
        "id": "Rr_gMja_wGcE",
        "colab_type": "text"
      },
      "source": [
        "## DNN Model Training"
      ]
    },
    {
      "cell_type": "code",
      "metadata": {
        "id": "-fr1d1urv6QW",
        "colab_type": "code",
        "outputId": "a705e3df-6248-41ba-b096-1f51d44352dd",
        "colab": {
          "base_uri": "https://localhost:8080/",
          "height": 521
        }
      },
      "source": [
        "model_dnn = DNN().cuda()\n",
        "\n",
        "loss = nn.CrossEntropyLoss() # loss采用crossEntropy是因为该问题是个分类问题\n",
        "optimizer = torch.optim.Adam(model_dnn.parameters(), lr=0.001) # optimizer 使用 Adam\n",
        "num_epoch = 30\n",
        "\n",
        "for epoch in range(num_epoch):\n",
        "    epoch_start_time = time.time()\n",
        "    train_acc = 0.0\n",
        "    train_loss = 0.0\n",
        "    val_acc = 0.0\n",
        "    val_loss = 0.0\n",
        "\n",
        "    # dnn model\n",
        "    model_dnn.train() \n",
        "\n",
        "    for i, data in enumerate(train_loader):\n",
        "        optimizer.zero_grad() \n",
        "        # data[0]是x，data[1]是计算出的y\n",
        "        train_pred = model_dnn(data[0].cuda()) # 利用model预测概率分布，实际上调用model的forward\n",
        "        batch_loss = loss(train_pred, data[1].cuda()) # 计算loss\n",
        "        batch_loss.backward() # 利用back propagation计算每个参数的gradient\n",
        "        optimizer.step() # 以optimizer 用gradient更新参数值\n",
        "\n",
        "        train_acc += np.sum(np.argmax(train_pred.cpu().data.numpy(), axis=1) == data[1].numpy())\n",
        "        train_loss += batch_loss.item()\n",
        "    \n",
        "    model_dnn.eval()\n",
        "    # torch.no_grad()表示不需要进行梯度计算\n",
        "    with torch.no_grad():\n",
        "        for i, data in enumerate(val_loader):\n",
        "            val_pred = model_dnn(data[0].cuda())\n",
        "            batch_loss = loss(val_pred, data[1].cuda())\n",
        "\n",
        "            val_acc += np.sum(np.argmax(val_pred.cpu().data.numpy(), axis=1) == data[1].numpy())\n",
        "            val_loss += batch_loss.item()\n",
        "\n",
        "        \n",
        "        print('[%03d/%03d] %2.2f sec(s) Train Acc: %3.6f Loss: %3.6f | Val Acc: %3.6f loss: %3.6f' % \\\n",
        "            (epoch + 1, num_epoch, time.time()-epoch_start_time, \\\n",
        "             train_acc/train_set.__len__(), train_loss/train_set.__len__(), val_acc/val_set.__len__(), val_loss/val_set.__len__()))"
      ],
      "execution_count": 23,
      "outputs": [
        {
          "output_type": "stream",
          "text": [
            "[001/030] 6.31 sec(s) Train Acc: 0.161666 Loss: 0.018364 | Val Acc: 0.165889 loss: 0.018173\n",
            "[002/030] 6.29 sec(s) Train Acc: 0.192682 Loss: 0.017531 | Val Acc: 0.219242 loss: 0.017161\n",
            "[003/030] 6.29 sec(s) Train Acc: 0.215082 Loss: 0.017174 | Val Acc: 0.223907 loss: 0.016746\n",
            "[004/030] 6.27 sec(s) Train Acc: 0.215589 Loss: 0.017100 | Val Acc: 0.215452 loss: 0.016883\n",
            "[005/030] 6.31 sec(s) Train Acc: 0.227549 Loss: 0.016887 | Val Acc: 0.227405 loss: 0.016696\n",
            "[006/030] 6.23 sec(s) Train Acc: 0.228360 Loss: 0.016817 | Val Acc: 0.216327 loss: 0.017023\n",
            "[007/030] 6.34 sec(s) Train Acc: 0.222380 Loss: 0.016878 | Val Acc: 0.216327 loss: 0.016904\n",
            "[008/030] 6.32 sec(s) Train Acc: 0.235354 Loss: 0.016735 | Val Acc: 0.219242 loss: 0.016653\n",
            "[009/030] 6.24 sec(s) Train Acc: 0.233935 Loss: 0.016702 | Val Acc: 0.225948 loss: 0.016513\n",
            "[010/030] 6.30 sec(s) Train Acc: 0.234239 Loss: 0.016577 | Val Acc: 0.228280 loss: 0.016450\n",
            "[011/030] 6.28 sec(s) Train Acc: 0.240016 Loss: 0.016558 | Val Acc: 0.249271 loss: 0.016416\n",
            "[012/030] 6.36 sec(s) Train Acc: 0.238699 Loss: 0.016571 | Val Acc: 0.225364 loss: 0.017060\n",
            "[013/030] 6.31 sec(s) Train Acc: 0.240726 Loss: 0.016404 | Val Acc: 0.228280 loss: 0.016780\n",
            "[014/030] 6.29 sec(s) Train Acc: 0.238293 Loss: 0.016528 | Val Acc: 0.172595 loss: 0.018415\n",
            "[015/030] 6.22 sec(s) Train Acc: 0.236671 Loss: 0.016553 | Val Acc: 0.232945 loss: 0.016332\n",
            "[016/030] 6.29 sec(s) Train Acc: 0.246605 Loss: 0.016397 | Val Acc: 0.226822 loss: 0.016920\n",
            "[017/030] 6.26 sec(s) Train Acc: 0.251470 Loss: 0.016419 | Val Acc: 0.236443 loss: 0.016440\n",
            "[018/030] 6.25 sec(s) Train Acc: 0.254815 Loss: 0.016372 | Val Acc: 0.236152 loss: 0.016335\n",
            "[019/030] 6.30 sec(s) Train Acc: 0.255321 Loss: 0.016250 | Val Acc: 0.258309 loss: 0.016241\n",
            "[020/030] 6.23 sec(s) Train Acc: 0.264241 Loss: 0.016065 | Val Acc: 0.266472 loss: 0.016165\n",
            "[021/030] 6.36 sec(s) Train Acc: 0.273160 Loss: 0.016064 | Val Acc: 0.258892 loss: 0.016062\n",
            "[022/030] 6.31 sec(s) Train Acc: 0.265052 Loss: 0.016019 | Val Acc: 0.271137 loss: 0.016063\n",
            "[023/030] 6.31 sec(s) Train Acc: 0.281472 Loss: 0.015912 | Val Acc: 0.282799 loss: 0.015963\n",
            "[024/030] 6.28 sec(s) Train Acc: 0.286742 Loss: 0.015789 | Val Acc: 0.270845 loss: 0.016113\n",
            "[025/030] 6.36 sec(s) Train Acc: 0.278938 Loss: 0.015855 | Val Acc: 0.264140 loss: 0.017006\n",
            "[026/030] 6.29 sec(s) Train Acc: 0.287452 Loss: 0.015767 | Val Acc: 0.262974 loss: 0.015881\n",
            "[027/030] 6.28 sec(s) Train Acc: 0.288770 Loss: 0.015617 | Val Acc: 0.277259 loss: 0.015883\n",
            "[028/030] 6.43 sec(s) Train Acc: 0.285323 Loss: 0.015557 | Val Acc: 0.275219 loss: 0.016138\n",
            "[029/030] 6.34 sec(s) Train Acc: 0.289682 Loss: 0.015530 | Val Acc: 0.252187 loss: 0.016354\n",
            "[030/030] 6.24 sec(s) Train Acc: 0.290189 Loss: 0.015594 | Val Acc: 0.295918 loss: 0.015814\n"
          ],
          "name": "stdout"
        }
      ]
    },
    {
      "cell_type": "code",
      "metadata": {
        "id": "OF5TVo8A0fdQ",
        "colab_type": "code",
        "colab": {}
      },
      "source": [
        ""
      ],
      "execution_count": 0,
      "outputs": []
    },
    {
      "cell_type": "markdown",
      "metadata": {
        "id": "RZu1ITnIS3jN",
        "colab_type": "text"
      },
      "source": [
        "将validation set和training set共同训练"
      ]
    },
    {
      "cell_type": "code",
      "metadata": {
        "id": "KeULF25GEAoW",
        "colab_type": "code",
        "colab": {}
      },
      "source": [
        "train_val_x = np.concatenate((train_x, val_x), axis=0)\n",
        "train_val_y = np.concatenate((train_y, val_y), axis=0)\n",
        "train_val_set = ImgDataset(train_val_x, train_val_y, train_transform)\n",
        "train_val_loader = DataLoader(train_val_set, batch_size=batch_size, shuffle=True)"
      ],
      "execution_count": 0,
      "outputs": []
    },
    {
      "cell_type": "code",
      "metadata": {
        "id": "LuIiqT7hTbgh",
        "colab_type": "code",
        "colab": {}
      },
      "source": [
        "model_best = Classifier().cuda()\n",
        "loss = nn.CrossEntropyLoss()\n",
        "optimizer = torch.optim.Adam(model_best.parameters(), lr = 0.001)\n",
        "\n",
        "for epoch in range(num_epoch):\n",
        "  epoch_start_time = time.time()\n",
        "  train_acc = 0.0\n",
        "  train_loss = 0.0\n",
        "\n",
        "  model_best.train()\n",
        "\n",
        "  for i, data in enumerate(train_val_loader):\n",
        "    optimizer.zero_grad()\n",
        "    train_pred = model_best(data[0].cuda())\n",
        "    batch_loss = loss(train_pred, data[1].cuda())\n",
        "    batch_loss.backward()\n",
        "    optimizer.step()\n",
        "\n",
        "    train_acc += np.sum(np.argmax(train_pred.cpu().data.numpy(), axis=1) == data[1].numpy())\n",
        "    train_loss += batch_loss.item()\n",
        "\n",
        "  print('[%03d/%03d] %2.2f sec(s) Train Acc: %3.6f Loss: %3.6f' % \\\n",
        "      (epoch + 1, num_epoch, time.time()-epoch_start_time, \\\n",
        "      train_acc/train_val_set.__len__(), train_loss/train_val_set.__len__()))"
      ],
      "execution_count": 0,
      "outputs": []
    },
    {
      "cell_type": "markdown",
      "metadata": {
        "id": "X12sdhixUfuw",
        "colab_type": "text"
      },
      "source": [
        "## 测试"
      ]
    },
    {
      "cell_type": "code",
      "metadata": {
        "id": "acP4ygvZUcV5",
        "colab_type": "code",
        "colab": {}
      },
      "source": [
        "test_set = ImgDataset(test_x, transform=test_transform)\n",
        "test_loader = DataLoader(test_set, batch_size=batch_size, shuffle=False)\n",
        "\n",
        "model_best.eval()\n",
        "prediction = []\n",
        "\n",
        "with torch.no_grad():\n",
        "  for i, data in enumerate(test_loader):\n",
        "    test_pred = model_best(data.cuda())\n",
        "    test_label = np.argmax(test_pred.cpu().data.numpy(), axis=1)\n",
        "    for y in test_label:\n",
        "      prediction.append(y)\n",
        "\n"
      ],
      "execution_count": 0,
      "outputs": []
    },
    {
      "cell_type": "markdown",
      "metadata": {
        "id": "cm2LxSjpVFcy",
        "colab_type": "text"
      },
      "source": [
        "## 保存结果"
      ]
    },
    {
      "cell_type": "code",
      "metadata": {
        "id": "g1DaF4plVG1h",
        "colab_type": "code",
        "colab": {}
      },
      "source": [
        "with open('predict_cnn.csv', 'w') as f:\n",
        "  f.write('Id,Category\\n')\n",
        "  for i, y in enumerate(prediction):\n",
        "    f.write('{},{}\\n'.format(i,y))"
      ],
      "execution_count": 0,
      "outputs": []
    },
    {
      "cell_type": "code",
      "metadata": {
        "id": "rwMH5LZebSjP",
        "colab_type": "code",
        "colab": {}
      },
      "source": [
        "!ls"
      ],
      "execution_count": 0,
      "outputs": []
    },
    {
      "cell_type": "code",
      "metadata": {
        "id": "svYtQJsIpELR",
        "colab_type": "code",
        "colab": {}
      },
      "source": [
        ""
      ],
      "execution_count": 0,
      "outputs": []
    }
  ]
}