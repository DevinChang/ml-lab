{
 "cells": [
  {
   "cell_type": "markdown",
   "metadata": {},
   "source": [
    "# 用CNN实现图片的分类"
   ]
  },
  {
   "cell_type": "code",
   "execution_count": 1,
   "metadata": {},
   "outputs": [],
   "source": [
    "import os\n",
    "import numpy as np\n",
    "import cv2\n",
    "import torch\n",
    "import torch.nn as nn\n",
    "import torchvision.transforms as transforms\n",
    "import pandas as pd\n",
    "from torch.utils.data import DataLoader, Dataset\n",
    "import time"
   ]
  },
  {
   "cell_type": "markdown",
   "metadata": {},
   "source": [
    "## 读取图像"
   ]
  },
  {
   "cell_type": "code",
   "execution_count": 6,
   "metadata": {},
   "outputs": [],
   "source": [
    "def readfile(path, is_ret_y):\n",
    "    '''\n",
    "    读取图像\n",
    "    parameter:\n",
    "        @path: 文件的路径\n",
    "        @is_ret_y: 布尔值，表示是否需要回传y\n",
    "    return:\n",
    "        读取图像后的array\n",
    "    '''\n",
    "    img_dir = sorted((os.listdir(path)))\n",
    "    x = np.zeros((len(img_dir), 128, 128, 3), dtype=np.uint8) # 将每张图像转换成128 × 128 × 3的矩阵\n",
    "    y = np.zeros((len(img_dir)), dtype=np.uint8) # 图像输出的标签\n",
    "    for i, file in enumerate(img_dir):\n",
    "        img = cv2.imread(os.path.join(path, file)) # cv2.imread()返回的是[height, width, channel]\n",
    "        x[i, :, :] = cv2.resize(img, (128, 128)) # 将图像的高度和宽度的像素值指定为128\n",
    "        if is_ret_y:\n",
    "            return x, is_ret_y\n",
    "        else:\n",
    "            return x\n",
    "        "
   ]
  },
  {
   "cell_type": "code",
   "execution_count": 13,
   "metadata": {},
   "outputs": [
    {
     "name": "stdout",
     "output_type": "stream",
     "text": [
      "Size of training data = 9866\n",
      "Size of validation data = 3430\n",
      "Size of testing data = 3347\n"
     ]
    }
   ],
   "source": [
    "# 读取图像\n",
    "root_dir = '/home/devinchang/Code/ml-lab/'\n",
    "data_dir = root_dir + '/data/hw3_5_7/food-11'\n",
    "train_x, train_y = readfile(os.path.join(data_dir, \"training\"), True) # 训练数据\n",
    "print(\"Size of training data = {}\".format(len(train_x)))\n",
    "val_x, val_y = readfile(os.path.join(data_dir, \"validation\"), True) # 验证集\n",
    "print(\"Size of validation data = {}\".format(len(val_x)))\n",
    "test_x = readfile(os.path.join(data_dir, \"testing\"), False) # 测试集\n",
    "print(\"Size of testing data = {}\".format(len(test_x)))"
   ]
  },
  {
   "cell_type": "code",
   "execution_count": null,
   "metadata": {},
   "outputs": [],
   "source": []
  }
 ],
 "metadata": {
  "kernelspec": {
   "display_name": "Python 3",
   "language": "python",
   "name": "python3"
  },
  "language_info": {
   "codemirror_mode": {
    "name": "ipython",
    "version": 3
   },
   "file_extension": ".py",
   "mimetype": "text/x-python",
   "name": "python",
   "nbconvert_exporter": "python",
   "pygments_lexer": "ipython3",
   "version": "3.6.7"
  }
 },
 "nbformat": 4,
 "nbformat_minor": 2
}
